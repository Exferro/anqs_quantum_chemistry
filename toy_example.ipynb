{
 "cells": [
  {
   "cell_type": "code",
   "execution_count": 1,
   "id": "95df5212-860c-47f7-90c9-29e9b8aed3e8",
   "metadata": {
    "tags": []
   },
   "outputs": [
    {
     "name": "stdout",
     "output_type": "stream",
     "text": [
      "Obtaining file:///home/aleksei/Research/NQS-master/nqs\n",
      "  Preparing metadata (setup.py) ... \u001b[?25ldone\n",
      "\u001b[?25hRequirement already satisfied: wheel in /home/aleksei/miniconda3/envs/nqs/lib/python3.11/site-packages (from nqs==0.1) (0.41.2)\n",
      "Installing collected packages: nqs\n",
      "  Attempting uninstall: nqs\n",
      "    Found existing installation: nqs 0.1\n",
      "    Uninstalling nqs-0.1:\n",
      "      Successfully uninstalled nqs-0.1\n",
      "  Running setup.py develop for nqs\n",
      "Successfully installed nqs-0.1\n"
     ]
    }
   ],
   "source": [
    "!cd ./nqs; python -m pip install -e ."
   ]
  },
  {
   "cell_type": "code",
   "execution_count": 36,
   "id": "0fd84a8f-4b69-4bfc-8a70-3b9cc612a441",
   "metadata": {
    "tags": []
   },
   "outputs": [],
   "source": [
    "import os\n",
    "import json\n",
    "\n",
    "import numpy as np\n",
    "import pandas as pd\n",
    "\n",
    "from matplotlib import pyplot as plt"
   ]
  },
  {
   "cell_type": "code",
   "execution_count": 3,
   "id": "a6a8dbba-b304-4e1d-a33d-35fcb2c4363c",
   "metadata": {
    "tags": []
   },
   "outputs": [],
   "source": [
    "from nqs.nqs.applications.quantum_chemistry.molecule import GeometryConfig, MolConfig\n",
    "from nqs.nqs.applications.quantum_chemistry.experiments.preparation import create_mol\n",
    "\n",
    "from nqs.nqs.applications.quantum_chemistry.experiments.energy_opt_exp import EnergyOptExpConfig, EnergyOptExp\n",
    "\n",
    "from nqs.nqs.applications.quantum_chemistry import CHEMICAL_ACCURACY"
   ]
  },
  {
   "cell_type": "code",
   "execution_count": 4,
   "id": "b5719bd4-f8dc-4f09-ad8e-b7a28e052350",
   "metadata": {
    "tags": []
   },
   "outputs": [],
   "source": [
    "mols_root_dir = './molecules'\n",
    "\n",
    "mol_name = 'Li2O'"
   ]
  },
  {
   "cell_type": "code",
   "execution_count": 5,
   "id": "e4bf5a9f-0419-469d-8b51-418d9e9ddabf",
   "metadata": {
    "tags": []
   },
   "outputs": [
    {
     "name": "stdout",
     "output_type": "stream",
     "text": [
      "You are trying to overwrite an existing geometry at ./molecules/name=Li2O/geometries/type=toy/idx=0/geom.json\n"
     ]
    }
   ],
   "source": [
    "geom = [[\"O\", [0.0, 0.0, 0.0]],\n",
    "        [\"Li\", [0.0, 0.0, 1.51903]],\n",
    "        [\"Li\", [0.0, 0.0, -1.51903]]]\n",
    "\n",
    "geom_config = GeometryConfig(type='toy', idx=0)\n",
    "geom_dir = os.path.join(mols_root_dir,\n",
    "                       f'name={mol_name}',\n",
    "                       'geometries',\n",
    "                        geom_config.to_path_suffix())\n",
    "\n",
    "if not os.path.exists(geom_dir):\n",
    "    os.makedirs(geom_dir)\n",
    "\n",
    "geom_filename = os.path.join(geom_dir, 'geom.json')\n",
    "\n",
    "if not os.path.exists(geom_filename):\n",
    "    with open(geom_filename, 'w') as f:\n",
    "        json.dump(geom, f)\n",
    "else:\n",
    "    print(f'You are trying to overwrite an existing geometry at {geom_filename}')"
   ]
  },
  {
   "cell_type": "code",
   "execution_count": 6,
   "id": "76edc943-42f0-4f3e-8002-256ee614f468",
   "metadata": {
    "tags": []
   },
   "outputs": [
    {
     "name": "stdout",
     "output_type": "stream",
     "text": [
      "The molecule filename exists\n",
      "The init config does not prescribe to reinit the Molecule\n"
     ]
    }
   ],
   "source": [
    "mol_config = MolConfig(name=mol_name,\n",
    "                       geom_config=geom_config,\n",
    "                       basis='sto-3g')\n",
    "mol = create_mol(config=mol_config,\n",
    "                 mols_root_dir=mols_root_dir)"
   ]
  },
  {
   "cell_type": "code",
   "execution_count": 56,
   "id": "4b1ef2d7-9869-4e82-9882-b4c029c65558",
   "metadata": {
    "tags": []
   },
   "outputs": [],
   "source": [
    "series_name = 'toy'\n",
    "exp_config = EnergyOptExpConfig(mols_root_dir=mols_root_dir,\n",
    "                                mol_config=mol_config,\n",
    "                                series_name=series_name)\n",
    "exp_config.local_energy_config.use_tree_for_candidates = 'trie'\n",
    "exp_config.proc_grad_schedule[0][1].use_sr = True\n",
    "exp_config.proc_grad_schedule[0][1].sr_config.max_indices_num = 50"
   ]
  },
  {
   "cell_type": "code",
   "execution_count": 57,
   "id": "78e45eef-16bc-45be-8d14-ba9791c38cba",
   "metadata": {
    "tags": []
   },
   "outputs": [
    {
     "name": "stderr",
     "output_type": "stream",
     "text": [
      "/home/aleksei/miniconda3/envs/nqs_master/lib/python3.12/site-packages/pennylane/ops/op_math/prod.py:499: PennyLaneDeprecationWarning: Prod.ops is deprecated and will be removed in future releases. You can access both (coeffs, ops) via op.terms() Also consider op.operands.\n",
      "  warnings.warn(\n"
     ]
    }
   ],
   "source": [
    "energy_opt_exp = EnergyOptExp(config=exp_config,\n",
    "                              mol=mol)"
   ]
  },
  {
   "cell_type": "code",
   "execution_count": 58,
   "id": "91c5ca73-c9a3-41fb-957e-d41ea53372a1",
   "metadata": {
    "tags": []
   },
   "outputs": [
    {
     "name": "stdout",
     "output_type": "stream",
     "text": [
      "hf energy: -88.58153042201909\n",
      "cisd energy: -88.69115384730222\n",
      "ccsd energy: -88.69444462196275\n",
      "ccsd_t energy: -88.70540598879934\n",
      "fci energy: -88.70545072446566\n",
      "fci energy up to chem. acc.: -88.70385072446567\n"
     ]
    },
    {
     "data": {
      "application/vnd.jupyter.widget-view+json": {
       "model_id": "b93999638c184eee943679af800f8452",
       "version_major": 2,
       "version_minor": 0
      },
      "text/plain": [
       "  0%|          | 0/500 [00:00<?, ?it/s]"
      ]
     },
     "metadata": {},
     "output_type": "display_data"
    }
   ],
   "source": [
    "for method in ('hf', 'cisd', 'ccsd', 'ccsd_t', 'fci'):\n",
    "    print(f'{method} energy: {getattr(energy_opt_exp.mol, f\"{method}_energy\")}')\n",
    "if energy_opt_exp.mol.fci_energy is not None:\n",
    "    print(f'fci energy up to chem. acc.: {energy_opt_exp.mol.fci_energy + CHEMICAL_ACCURACY}')\n",
    "energy_opt_exp.run(iter_num=500)"
   ]
  },
  {
   "cell_type": "markdown",
   "id": "2f1f430a-5d9a-4927-a162-6f7396c7ee28",
   "metadata": {},
   "source": [
    "# Building plots"
   ]
  },
  {
   "cell_type": "code",
   "execution_count": 59,
   "id": "c22d9d21-11b6-49cb-ab14-a540cb2f9cad",
   "metadata": {
    "tags": []
   },
   "outputs": [],
   "source": [
    "series_dir = os.path.join(mol.dir, 'exp_series', series_name)\n",
    "result_filename = os.path.join(series_dir, f'{exp_config.to_sha256_str()}', 'result.csv')\n",
    "result = pd.read_csv(result_filename)"
   ]
  },
  {
   "cell_type": "code",
   "execution_count": 60,
   "id": "cb1a8883-da8b-4556-bdfe-0d29b2091705",
   "metadata": {
    "tags": []
   },
   "outputs": [
    {
     "data": {
      "text/plain": [
       "<matplotlib.legend.Legend at 0x7ff999ad2720>"
      ]
     },
     "execution_count": 60,
     "metadata": {},
     "output_type": "execute_result"
    },
    {
     "data": {
      "image/png": "[encoded data removed]",
      "text/plain": [
       "<Figure size 640x480 with 1 Axes>"
      ]
     },
     "metadata": {},
     "output_type": "display_data"
    }
   ],
   "source": [
    "fig, ax = plt.subplots()\n",
    "ax.grid()\n",
    "ax.plot(result['iter_idx'],\n",
    "        result['sample_aware_energy'] - mol.fci_energy,\n",
    "        label='ANQS')\n",
    "ax.set_yscale('log')\n",
    "\n",
    "x_lim = ax.get_xlim()\n",
    "\n",
    "point_num = 10\n",
    "x_axis = np.linspace(x_lim[0], x_lim[1], point_num)\n",
    "for method in ('hf', 'cisd', 'ccsd', 'ccsd_t'):\n",
    "    ax.plot(x_axis,\n",
    "            np.ones_like(x_axis) * getattr(mol, f'{method}_energy') - mol.fci_energy,\n",
    "            label=method,\n",
    "            linestyle='dashed',\n",
    "            linewidth=1)\n",
    "ax.fill_between([x_lim[0], x_lim[1]], 0, 1.6e-3, color='grey', alpha=0.15)\n",
    "ax.set_xlim(x_lim)\n",
    "\n",
    "ax.set_xlabel('Iteration')\n",
    "ax.set_ylabel('Difference with FCI [Ha]')\n",
    "ax.legend(loc='best')"
   ]
  }
 ],
 "metadata": {
  "kernelspec": {
   "display_name": "NQS master kernel",
   "language": "python",
   "name": "nqs_master"
  },
  "language_info": {
   "codemirror_mode": {
    "name": "ipython",
    "version": 3
   },
   "file_extension": ".py",
   "mimetype": "text/x-python",
   "name": "python",
   "nbconvert_exporter": "python",
   "pygments_lexer": "ipython3",
   "version": "3.12.4"
  }
 },
 "nbformat": 4,
 "nbformat_minor": 5
}
