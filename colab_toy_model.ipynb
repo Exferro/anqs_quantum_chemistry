{
 "cells": [
  {
   "cell_type": "markdown",
   "metadata": {
    "colab_type": "text",
    "id": "view-in-github"
   },
   "source": [
    "<a href=\"https://colab.research.google.com/github/Exferro/anqs_quantum_chemistry/blob/main/colab_toy_model.ipynb\" target=\"_parent\"><img src=\"https://colab.research.google.com/assets/colab-badge.svg\" alt=\"Open In Colab\"/></a>"
   ]
  },
  {
   "cell_type": "markdown",
   "metadata": {},
   "source": [
    "To download the package source code from GitHub, uncomment and execute the following cell:"
   ]
  },
  {
   "cell_type": "code",
   "execution_count": null,
   "metadata": {
    "colab": {
     "base_uri": "https://localhost:8080/"
    },
    "id": "d_sR-UoIZlyq",
    "outputId": "ab3c83c2-01ec-42f8-d416-490436c6b87f",
    "tags": []
   },
   "outputs": [],
   "source": [
    "#!git clone https://github.com/Exferro/anqs_quantum_chemistry.git"
   ]
  },
  {
   "cell_type": "markdown",
   "metadata": {},
   "source": [
    "To install the required packages, uncomment and execute the following cell:"
   ]
  },
  {
   "cell_type": "code",
   "execution_count": null,
   "metadata": {
    "colab": {
     "base_uri": "https://localhost:8080/"
    },
    "id": "wO2EfcOZZwIA",
    "outputId": "74102cf4-d5f3-4ecf-a9fd-e5b15438dcbc",
    "tags": []
   },
   "outputs": [],
   "source": [
    "#!pip install -r ./anqs_quantum_chemistry/requirements_colab.txt"
   ]
  },
  {
   "cell_type": "code",
   "execution_count": null,
   "metadata": {
    "id": "8uh69lJGjvZJ"
   },
   "outputs": [],
   "source": [
    "import os\n",
    "import json\n",
    "\n",
    "import numpy as np\n",
    "import pandas as pd\n",
    "\n",
    "from matplotlib import pyplot as plt"
   ]
  },
  {
   "cell_type": "code",
   "execution_count": null,
   "metadata": {
    "id": "5g-cMgbJjq1t"
   },
   "outputs": [],
   "source": [
    "import sys\n",
    "import importlib"
   ]
  },
  {
   "cell_type": "markdown",
   "metadata": {},
   "source": [
    "To install our package, uncomment and execute the following cell:"
   ]
  },
  {
   "cell_type": "code",
   "execution_count": null,
   "metadata": {
    "colab": {
     "base_uri": "https://localhost:8080/"
    },
    "id": "hTXFdODWdVS_",
    "outputId": "0736515f-6f8f-40b9-8016-188f01662286",
    "tags": []
   },
   "outputs": [],
   "source": [
    "#!cd ./anqs_quantum_chemistry/nqs; python -m pip install -e ."
   ]
  },
  {
   "cell_type": "markdown",
   "metadata": {},
   "source": [
    "Add the path to our package to Colab PATH variable."
   ]
  },
  {
   "cell_type": "code",
   "execution_count": null,
   "metadata": {
    "id": "J-I3kzLTl77K",
    "tags": []
   },
   "outputs": [],
   "source": [
    "sys.path.append('./anqs_quantum_chemistry/nqs')"
   ]
  },
  {
   "cell_type": "markdown",
   "metadata": {},
   "source": [
    "Here we import the required classes from our package. Sometimes imports might not work immediately after the installation of `nqs` and in this situation we would advise to simply restart the Colab runtime."
   ]
  },
  {
   "cell_type": "code",
   "execution_count": null,
   "metadata": {
    "id": "HpwyHUYYdeRt"
   },
   "outputs": [],
   "source": [
    "from nqs.applications.quantum_chemistry.molecule import GeometryConfig, MolConfig\n",
    "from nqs.applications.quantum_chemistry.experiments.preparation import create_mol\n",
    "\n",
    "from nqs.applications.quantum_chemistry.experiments.energy_opt_exp import EnergyOptExpConfig, EnergyOptExp\n",
    "\n",
    "from nqs.applications.quantum_chemistry import CHEMICAL_ACCURACY"
   ]
  },
  {
   "cell_type": "code",
   "execution_count": null,
   "metadata": {
    "id": "Ubq4nnRYeCpH"
   },
   "outputs": [],
   "source": [
    "mols_root_dir = './molecules'\n",
    "\n",
    "mol_name = 'Li2O'"
   ]
  },
  {
   "cell_type": "markdown",
   "metadata": {},
   "source": [
    "We specify the molecule geometry and save it as a .json file which will be later used to construct the molecule object."
   ]
  },
  {
   "cell_type": "code",
   "execution_count": null,
   "metadata": {
    "id": "fEW9wl9IgJwf"
   },
   "outputs": [],
   "source": [
    "geom = [[\"O\", [0.0, 0.0, 0.0]],\n",
    "        [\"Li\", [0.0, 0.0, 1.51903]],\n",
    "        [\"Li\", [0.0, 0.0, -1.51903]]]\n",
    "\n",
    "geom_config = GeometryConfig(type='toy', idx=0)\n",
    "geom_dir = os.path.join(mols_root_dir,\n",
    "                       f'name={mol_name}',\n",
    "                       'geometries',\n",
    "                        geom_config.to_path_suffix())\n",
    "\n",
    "if not os.path.exists(geom_dir):\n",
    "    os.makedirs(geom_dir)\n",
    "\n",
    "geom_filename = os.path.join(geom_dir, 'geom.json')\n",
    "\n",
    "if not os.path.exists(geom_filename):\n",
    "    with open(geom_filename, 'w') as f:\n",
    "        json.dump(geom, f)\n",
    "else:\n",
    "    print(f'You are trying to overwrite an existing geometry at {geom_filename}')"
   ]
  },
  {
   "cell_type": "markdown",
   "metadata": {},
   "source": [
    "We create a molecule object, obtain the second quantised Hamiltonian for it and run several quantum chemistry methods to compare to. It takes ~5 minutes to run those calculations on Colab. However, once they are done, we cache them, and thus subsequent calls to `create_mol` should be much faster."
   ]
  },
  {
   "cell_type": "code",
   "execution_count": null,
   "metadata": {
    "colab": {
     "base_uri": "https://localhost:8080/"
    },
    "id": "eMNoGczygLUy",
    "outputId": "60992263-f331-4fe1-b00e-44a3a53c4448"
   },
   "outputs": [],
   "source": [
    "mol_config = MolConfig(name=mol_name,\n",
    "                       geom_config=geom_config,\n",
    "                       basis='sto-3g')\n",
    "mol = create_mol(config=mol_config,\n",
    "                 mols_root_dir=mols_root_dir)"
   ]
  },
  {
   "cell_type": "markdown",
   "metadata": {},
   "source": [
    "We use a high-level wrappers around elementary ANQS subroutines, which would set up the directory tree for us, and create the required objects (Hilbert space, Hamiltonian, ansatz) for us with the default values."
   ]
  },
  {
   "cell_type": "code",
   "execution_count": null,
   "metadata": {
    "id": "g-zssaAfhiY8"
   },
   "outputs": [],
   "source": [
    "series_name = 'toy_example'\n",
    "exp_config = EnergyOptExpConfig(mols_root_dir=mols_root_dir,\n",
    "                                mol_config=mol_config,\n",
    "                                series_name=series_name)\n",
    "exp_config.local_energy_config.use_tree_for_candidates = 'trie'\n",
    "exp_config.proc_grad_schedule[0][1].use_sr = True\n",
    "exp_config.proc_grad_schedule[0][1].sr_config.max_indices_num = 50"
   ]
  },
  {
   "cell_type": "markdown",
   "metadata": {},
   "source": [
    "We create an instance of energy optimisation experiment, which contains everything a VMC experiment should: a loop to sample, evaluate amplitudes, the energy, the gradient, and stochastic reconfiguration."
   ]
  },
  {
   "cell_type": "code",
   "execution_count": null,
   "metadata": {
    "colab": {
     "base_uri": "https://localhost:8080/"
    },
    "id": "NCMpeTlNhj-r",
    "outputId": "a8642704-54bb-46d1-f015-b81152005a82"
   },
   "outputs": [],
   "source": [
    "energy_opt_exp = EnergyOptExp(config=exp_config,\n",
    "                              mol=mol)"
   ]
  },
  {
   "cell_type": "markdown",
   "metadata": {},
   "source": [
    "We run the experiment! It takes ~3 minutes on Colab for 500 iterations."
   ]
  },
  {
   "cell_type": "code",
   "execution_count": null,
   "metadata": {
    "colab": {
     "base_uri": "https://localhost:8080/",
     "height": 168,
     "referenced_widgets": [
      "96d195578ce34babb176f7aaccbc6b3d",
      "a4431d3b3b9f43248a8b40e19fe51d56",
      "dd9c028fef944206a0b7f63985feb357",
      "a6d2d418964b4868adb2609d33b2a474",
      "a72d68474b5a4eddb27a5d8c0bf76836",
      "c33d6bb313fe488e9fcaebe78203a882",
      "a2909657a7c44c86baf8e3491f49173b",
      "659f208745c544b398e71fbc1332790e",
      "7400827c2ebb41dd8d3096a1b678f1c7",
      "327a96e5060a4038bc04c1f06c7eee40",
      "09314e06f8684626bec70c2822a32201"
     ]
    },
    "id": "J7iEuvfNhlVQ",
    "outputId": "9bb06c4e-6880-45c8-b90c-a398182eeced"
   },
   "outputs": [],
   "source": [
    "for method in ('hf', 'cisd', 'ccsd', 'ccsd_t', 'fci'):\n",
    "    print(f'{method} energy: {getattr(energy_opt_exp.mol, f\"{method}_energy\")}')\n",
    "if energy_opt_exp.mol.fci_energy is not None:\n",
    "    print(f'fci energy up to chem. acc.: {energy_opt_exp.mol.fci_energy + CHEMICAL_ACCURACY}')\n",
    "energy_opt_exp.run(iter_num=500)"
   ]
  },
  {
   "cell_type": "markdown",
   "metadata": {
    "id": "hrCScCsPiS0Z"
   },
   "source": [
    "# Building plots"
   ]
  },
  {
   "cell_type": "markdown",
   "metadata": {},
   "source": [
    "We need to extract the automatically saved results from the tree of directories."
   ]
  },
  {
   "cell_type": "code",
   "execution_count": null,
   "metadata": {
    "id": "_vQH8NiLiWys"
   },
   "outputs": [],
   "source": [
    "series_dir = os.path.join(mol.dir, 'exp_series', series_name)\n",
    "result_filename = os.path.join(series_dir, f'{exp_config.to_sha256_str()}', 'result.csv')\n",
    "result = pd.read_csv(result_filename)"
   ]
  },
  {
   "cell_type": "markdown",
   "metadata": {},
   "source": [
    "We plot how the ANQS energy changes in the course of optimisation and compare it to the conventional quantum chemistry methods. The grey shaded area corresponds to chemical accuracy."
   ]
  },
  {
   "cell_type": "code",
   "execution_count": null,
   "metadata": {
    "colab": {
     "base_uri": "https://localhost:8080/",
     "height": 466
    },
    "id": "11GJYUG8iYVI",
    "outputId": "b971e2bb-0011-4a3a-fd43-b9df7bf7dfa4"
   },
   "outputs": [],
   "source": [
    "fig, ax = plt.subplots()\n",
    "ax.grid()\n",
    "ax.plot(result['iter_idx'],\n",
    "        result['sample_aware_energy'] - mol.fci_energy,\n",
    "        label='ANQS')\n",
    "ax.set_yscale('log')\n",
    "\n",
    "x_lim = ax.get_xlim()\n",
    "\n",
    "point_num = 10\n",
    "x_axis = np.linspace(x_lim[0], x_lim[1], point_num)\n",
    "for method in ('hf', 'cisd', 'ccsd', 'ccsd_t'):\n",
    "    ax.plot(x_axis,\n",
    "            np.ones_like(x_axis) * getattr(mol, f'{method}_energy') - mol.fci_energy,\n",
    "            label=method,\n",
    "            linestyle='dashed',\n",
    "            linewidth=1)\n",
    "ax.fill_between([x_lim[0], x_lim[1]], 0, 1.6e-3, color='grey', alpha=0.15)\n",
    "ax.set_xlim(x_lim)\n",
    "\n",
    "ax.set_xlabel('Iteration')\n",
    "ax.set_ylabel('Difference with FCI [Ha]')\n",
    "ax.legend(loc='best')"
   ]
  }
 ],
 "metadata": {
  "accelerator": "GPU",
  "colab": {
   "authorship_tag": "ABX9TyPYdWHlXqj1319sTjhvyMWl",
   "gpuType": "T4",
   "include_colab_link": true,
   "provenance": []
  },
  "kernelspec": {
   "display_name": "Python 3 (ipykernel)",
   "language": "python",
   "name": "python3"
  },
  "language_info": {
   "codemirror_mode": {
    "name": "ipython",
    "version": 3
   },
   "file_extension": ".py",
   "mimetype": "text/x-python",
   "name": "python",
   "nbconvert_exporter": "python",
   "pygments_lexer": "ipython3",
   "version": "3.11.5"
  },
  "widgets": {
   "application/vnd.jupyter.widget-state+json": {
    "09314e06f8684626bec70c2822a32201": {
     "model_module": "@jupyter-widgets/controls",
     "model_module_version": "1.5.0",
     "model_name": "DescriptionStyleModel",
     "state": {
      "_model_module": "@jupyter-widgets/controls",
      "_model_module_version": "1.5.0",
      "_model_name": "DescriptionStyleModel",
      "_view_count": null,
      "_view_module": "@jupyter-widgets/base",
      "_view_module_version": "1.2.0",
      "_view_name": "StyleView",
      "description_width": ""
     }
    },
    "327a96e5060a4038bc04c1f06c7eee40": {
     "model_module": "@jupyter-widgets/base",
     "model_module_version": "1.2.0",
     "model_name": "LayoutModel",
     "state": {
      "_model_module": "@jupyter-widgets/base",
      "_model_module_version": "1.2.0",
      "_model_name": "LayoutModel",
      "_view_count": null,
      "_view_module": "@jupyter-widgets/base",
      "_view_module_version": "1.2.0",
      "_view_name": "LayoutView",
      "align_content": null,
      "align_items": null,
      "align_self": null,
      "border": null,
      "bottom": null,
      "display": null,
      "flex": null,
      "flex_flow": null,
      "grid_area": null,
      "grid_auto_columns": null,
      "grid_auto_flow": null,
      "grid_auto_rows": null,
      "grid_column": null,
      "grid_gap": null,
      "grid_row": null,
      "grid_template_areas": null,
      "grid_template_columns": null,
      "grid_template_rows": null,
      "height": null,
      "justify_content": null,
      "justify_items": null,
      "left": null,
      "margin": null,
      "max_height": null,
      "max_width": null,
      "min_height": null,
      "min_width": null,
      "object_fit": null,
      "object_position": null,
      "order": null,
      "overflow": null,
      "overflow_x": null,
      "overflow_y": null,
      "padding": null,
      "right": null,
      "top": null,
      "visibility": null,
      "width": null
     }
    },
    "659f208745c544b398e71fbc1332790e": {
     "model_module": "@jupyter-widgets/base",
     "model_module_version": "1.2.0",
     "model_name": "LayoutModel",
     "state": {
      "_model_module": "@jupyter-widgets/base",
      "_model_module_version": "1.2.0",
      "_model_name": "LayoutModel",
      "_view_count": null,
      "_view_module": "@jupyter-widgets/base",
      "_view_module_version": "1.2.0",
      "_view_name": "LayoutView",
      "align_content": null,
      "align_items": null,
      "align_self": null,
      "border": null,
      "bottom": null,
      "display": null,
      "flex": null,
      "flex_flow": null,
      "grid_area": null,
      "grid_auto_columns": null,
      "grid_auto_flow": null,
      "grid_auto_rows": null,
      "grid_column": null,
      "grid_gap": null,
      "grid_row": null,
      "grid_template_areas": null,
      "grid_template_columns": null,
      "grid_template_rows": null,
      "height": null,
      "justify_content": null,
      "justify_items": null,
      "left": null,
      "margin": null,
      "max_height": null,
      "max_width": null,
      "min_height": null,
      "min_width": null,
      "object_fit": null,
      "object_position": null,
      "order": null,
      "overflow": null,
      "overflow_x": null,
      "overflow_y": null,
      "padding": null,
      "right": null,
      "top": null,
      "visibility": null,
      "width": null
     }
    },
    "7400827c2ebb41dd8d3096a1b678f1c7": {
     "model_module": "@jupyter-widgets/controls",
     "model_module_version": "1.5.0",
     "model_name": "ProgressStyleModel",
     "state": {
      "_model_module": "@jupyter-widgets/controls",
      "_model_module_version": "1.5.0",
      "_model_name": "ProgressStyleModel",
      "_view_count": null,
      "_view_module": "@jupyter-widgets/base",
      "_view_module_version": "1.2.0",
      "_view_name": "StyleView",
      "bar_color": null,
      "description_width": ""
     }
    },
    "96d195578ce34babb176f7aaccbc6b3d": {
     "model_module": "@jupyter-widgets/controls",
     "model_module_version": "1.5.0",
     "model_name": "HBoxModel",
     "state": {
      "_dom_classes": [],
      "_model_module": "@jupyter-widgets/controls",
      "_model_module_version": "1.5.0",
      "_model_name": "HBoxModel",
      "_view_count": null,
      "_view_module": "@jupyter-widgets/controls",
      "_view_module_version": "1.5.0",
      "_view_name": "HBoxView",
      "box_style": "",
      "children": [
       "IPY_MODEL_a4431d3b3b9f43248a8b40e19fe51d56",
       "IPY_MODEL_dd9c028fef944206a0b7f63985feb357",
       "IPY_MODEL_a6d2d418964b4868adb2609d33b2a474"
      ],
      "layout": "IPY_MODEL_a72d68474b5a4eddb27a5d8c0bf76836"
     }
    },
    "a2909657a7c44c86baf8e3491f49173b": {
     "model_module": "@jupyter-widgets/controls",
     "model_module_version": "1.5.0",
     "model_name": "DescriptionStyleModel",
     "state": {
      "_model_module": "@jupyter-widgets/controls",
      "_model_module_version": "1.5.0",
      "_model_name": "DescriptionStyleModel",
      "_view_count": null,
      "_view_module": "@jupyter-widgets/base",
      "_view_module_version": "1.2.0",
      "_view_name": "StyleView",
      "description_width": ""
     }
    },
    "a4431d3b3b9f43248a8b40e19fe51d56": {
     "model_module": "@jupyter-widgets/controls",
     "model_module_version": "1.5.0",
     "model_name": "HTMLModel",
     "state": {
      "_dom_classes": [],
      "_model_module": "@jupyter-widgets/controls",
      "_model_module_version": "1.5.0",
      "_model_name": "HTMLModel",
      "_view_count": null,
      "_view_module": "@jupyter-widgets/controls",
      "_view_module_version": "1.5.0",
      "_view_name": "HTMLView",
      "description": "",
      "description_tooltip": null,
      "layout": "IPY_MODEL_c33d6bb313fe488e9fcaebe78203a882",
      "placeholder": "​",
      "style": "IPY_MODEL_a2909657a7c44c86baf8e3491f49173b",
      "value": "100%"
     }
    },
    "a6d2d418964b4868adb2609d33b2a474": {
     "model_module": "@jupyter-widgets/controls",
     "model_module_version": "1.5.0",
     "model_name": "HTMLModel",
     "state": {
      "_dom_classes": [],
      "_model_module": "@jupyter-widgets/controls",
      "_model_module_version": "1.5.0",
      "_model_name": "HTMLModel",
      "_view_count": null,
      "_view_module": "@jupyter-widgets/controls",
      "_view_module_version": "1.5.0",
      "_view_name": "HTMLView",
      "description": "",
      "description_tooltip": null,
      "layout": "IPY_MODEL_327a96e5060a4038bc04c1f06c7eee40",
      "placeholder": "​",
      "style": "IPY_MODEL_09314e06f8684626bec70c2822a32201",
      "value": " 500/500 [02:44&lt;00:00,  3.46it/s, &lt;E&gt;=nan, SA &lt;E&gt;=-88.68960772827796, N_unq=1e+4, Act. N_unq=1e+4, Rep. num=1, Next N_s=1e+4, min &lt;E&gt;=-88.69109749097458 in 164.67416048049927s (498 iter), Chem. Acc.=in Nones (None iter)]"
     }
    },
    "a72d68474b5a4eddb27a5d8c0bf76836": {
     "model_module": "@jupyter-widgets/base",
     "model_module_version": "1.2.0",
     "model_name": "LayoutModel",
     "state": {
      "_model_module": "@jupyter-widgets/base",
      "_model_module_version": "1.2.0",
      "_model_name": "LayoutModel",
      "_view_count": null,
      "_view_module": "@jupyter-widgets/base",
      "_view_module_version": "1.2.0",
      "_view_name": "LayoutView",
      "align_content": null,
      "align_items": null,
      "align_self": null,
      "border": null,
      "bottom": null,
      "display": null,
      "flex": null,
      "flex_flow": null,
      "grid_area": null,
      "grid_auto_columns": null,
      "grid_auto_flow": null,
      "grid_auto_rows": null,
      "grid_column": null,
      "grid_gap": null,
      "grid_row": null,
      "grid_template_areas": null,
      "grid_template_columns": null,
      "grid_template_rows": null,
      "height": null,
      "justify_content": null,
      "justify_items": null,
      "left": null,
      "margin": null,
      "max_height": null,
      "max_width": null,
      "min_height": null,
      "min_width": null,
      "object_fit": null,
      "object_position": null,
      "order": null,
      "overflow": null,
      "overflow_x": null,
      "overflow_y": null,
      "padding": null,
      "right": null,
      "top": null,
      "visibility": null,
      "width": null
     }
    },
    "c33d6bb313fe488e9fcaebe78203a882": {
     "model_module": "@jupyter-widgets/base",
     "model_module_version": "1.2.0",
     "model_name": "LayoutModel",
     "state": {
      "_model_module": "@jupyter-widgets/base",
      "_model_module_version": "1.2.0",
      "_model_name": "LayoutModel",
      "_view_count": null,
      "_view_module": "@jupyter-widgets/base",
      "_view_module_version": "1.2.0",
      "_view_name": "LayoutView",
      "align_content": null,
      "align_items": null,
      "align_self": null,
      "border": null,
      "bottom": null,
      "display": null,
      "flex": null,
      "flex_flow": null,
      "grid_area": null,
      "grid_auto_columns": null,
      "grid_auto_flow": null,
      "grid_auto_rows": null,
      "grid_column": null,
      "grid_gap": null,
      "grid_row": null,
      "grid_template_areas": null,
      "grid_template_columns": null,
      "grid_template_rows": null,
      "height": null,
      "justify_content": null,
      "justify_items": null,
      "left": null,
      "margin": null,
      "max_height": null,
      "max_width": null,
      "min_height": null,
      "min_width": null,
      "object_fit": null,
      "object_position": null,
      "order": null,
      "overflow": null,
      "overflow_x": null,
      "overflow_y": null,
      "padding": null,
      "right": null,
      "top": null,
      "visibility": null,
      "width": null
     }
    },
    "dd9c028fef944206a0b7f63985feb357": {
     "model_module": "@jupyter-widgets/controls",
     "model_module_version": "1.5.0",
     "model_name": "FloatProgressModel",
     "state": {
      "_dom_classes": [],
      "_model_module": "@jupyter-widgets/controls",
      "_model_module_version": "1.5.0",
      "_model_name": "FloatProgressModel",
      "_view_count": null,
      "_view_module": "@jupyter-widgets/controls",
      "_view_module_version": "1.5.0",
      "_view_name": "ProgressView",
      "bar_style": "success",
      "description": "",
      "description_tooltip": null,
      "layout": "IPY_MODEL_659f208745c544b398e71fbc1332790e",
      "max": 500,
      "min": 0,
      "orientation": "horizontal",
      "style": "IPY_MODEL_7400827c2ebb41dd8d3096a1b678f1c7",
      "value": 500
     }
    }
   }
  }
 },
 "nbformat": 4,
 "nbformat_minor": 4
}
